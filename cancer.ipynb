{
  "nbformat": 4,
  "nbformat_minor": 0,
  "metadata": {
    "colab": {
      "provenance": [],
      "authorship_tag": "ABX9TyMu61VsLj+IZfX8LdisxGn3",
      "include_colab_link": true
    },
    "kernelspec": {
      "name": "python3",
      "display_name": "Python 3"
    },
    "language_info": {
      "name": "python"
    }
  },
  "cells": [
    {
      "cell_type": "markdown",
      "metadata": {
        "id": "view-in-github",
        "colab_type": "text"
      },
      "source": [
        "<a href=\"https://colab.research.google.com/github/shqqfr/colab/blob/main/cancer.ipynb\" target=\"_parent\"><img src=\"https://colab.research.google.com/assets/colab-badge.svg\" alt=\"Open In Colab\"/></a>"
      ]
    },
    {
      "cell_type": "code",
      "execution_count": null,
      "metadata": {
        "id": "mqI7PDok3Ygz"
      },
      "outputs": [],
      "source": [
        "# import the library and read the dataset\n",
        "import pandas as pd\n",
        "df = pd.read_csv(data.csv)"
      ]
    },
    {
      "cell_type": "code",
      "source": [
        "from pyspark.sql.types import *"
      ],
      "metadata": {
        "id": "oJ0Ff5WlCBIs"
      },
      "execution_count": null,
      "outputs": []
    },
    {
      "cell_type": "code",
      "source": [
        "from pyspark.sql import SparkSession"
      ],
      "metadata": {
        "id": "DxyivihSCWWR"
      },
      "execution_count": null,
      "outputs": []
    },
    {
      "cell_type": "code",
      "source": [
        "spark = SparkSession.builder.appName(\"python spark example\").getOrCreate()"
      ],
      "metadata": {
        "id": "LaVC3oPICZSL"
      },
      "execution_count": null,
      "outputs": []
    },
    {
      "cell_type": "code",
      "source": [
        "sc = spark.sparkContext"
      ],
      "metadata": {
        "id": "swaBetdxCQ2-"
      },
      "execution_count": null,
      "outputs": []
    },
    {
      "cell_type": "code",
      "source": [],
      "metadata": {
        "id": "du4zZXNoDKkZ"
      },
      "execution_count": null,
      "outputs": []
    },
    {
      "cell_type": "code",
      "source": [
        "# data exploration and cleaning\n",
        "# plot distribution and check anomoly\n",
        "# filter the data based on requirements\n",
        "df_us = df[df.location = 'USA']\n",
        "# check null values and duplications\n",
        "# smoke or not Y/N\n",
        "# birth date (reasonable range) --> age\n",
        "# cancer or not 0/1 Y/N\n",
        "\n",
        "# cancer finding date\n",
        "# how severe of cancel"
      ],
      "metadata": {
        "id": "T4FqeTbe44Uc"
      },
      "execution_count": null,
      "outputs": []
    },
    {
      "cell_type": "code",
      "source": [
        "# feature engineering\n",
        "# age, smoke or not\n",
        "# age: discrete or continuous; if discrete variable, encoding\n",
        "# remove outliers before the modelling\n"
      ],
      "metadata": {
        "id": "SzYXIDNA65d7"
      },
      "execution_count": null,
      "outputs": []
    },
    {
      "cell_type": "code",
      "source": [
        "# Precision\n"
      ],
      "metadata": {
        "id": "xj3Z80Sc7bal"
      },
      "execution_count": null,
      "outputs": []
    }
  ]
}